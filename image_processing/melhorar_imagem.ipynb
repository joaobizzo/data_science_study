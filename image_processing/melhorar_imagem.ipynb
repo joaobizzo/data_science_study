{
 "cells": [
  {
   "cell_type": "code",
   "execution_count": null,
   "metadata": {},
   "outputs": [],
   "source": [
    "#pip install opencv-python\n",
    "import tensorflow_hub as hub\n",
    "import tensorflow as tf\n",
    "import matplotlib.pyplot as plt\n",
    "from PIL import Image\n",
    "import numpy as np\n",
    "import os"
   ]
  },
  {
   "cell_type": "code",
   "execution_count": null,
   "metadata": {},
   "outputs": [],
   "source": [
    "# Função que realiza a leitura da imagem e\n",
    "# faz os tratamentos necessários\n",
    "def preprocess_image(image_path):\n",
    "    \n",
    "    # Carrega a imagem a partir do caminho especificado\n",
    "    imagem = tf.image.decode_image(tf.io.read_file(image_path))\n",
    "    \n",
    "    # Verifica se a imagem tem um canal alfa (RGBA) (controla a opacidade da cor)\n",
    "    if imagem.shape[-1] == 4:\n",
    "        # Remove o canal alfa, deixando apenas os canais de cor RGB\n",
    "        imagem = imagem[...,:-1]\n",
    "    \n",
    "    # Converte a imagem para um tipo de dados de ponto flutuante\n",
    "    imagem = tf.cast(imagem, tf.float32)\n",
    "    \n",
    "    # Adiciona uma dimensão extra à imagem para que possa ser usada como entrada para o modelo\n",
    "    return tf.expand_dims(imagem, 0)  \n",
    "    \n",
    "def save_image(imagem, filename):\n",
    "    imagem = tf.squeeze(imagem)\n",
    "    # Verifica se a imagem é um objeto PIL (Pillow), se não for, converte-a para uma imagem do TensorFlow\n",
    "    if not isinstance(imagem, Image.Image):\n",
    "        # Garante que os valores de pixel estejam no intervalo [0, 255]\n",
    "        imagem = tf.clip_by_value(imagem, 0, 255)\n",
    "        # Converte a imagem para um objeto PIL (Pillow)\n",
    "        imagem = Image.fromarray(tf.cast(imagem, tf.uint8).numpy())\n",
    "    \n",
    "    # Salva a imagem em um arquivo com o nome especificado\n",
    "    imagem.save(\"%s.jpg\" % filename)\n",
    "\n",
    "# Define uma função para plotar uma imagem\n",
    "def plot_image(imagem, title=\"\"):\n",
    "    imagem = tf.squeeze(imagem)\n",
    "\n",
    "    # Converte a imagem em um array NumPy\n",
    "    imagem = np.asarray(imagem)\n",
    "    \n",
    "    # Garante que os valores de pixel estejam no intervalo [0, 255]\n",
    "    imagem = tf.clip_by_value(imagem, 0, 255)\n",
    "    \n",
    "    # Converte a imagem para um objeto PIL (Pillow)\n",
    "    imagem = Image.fromarray(tf.cast(imagem, tf.uint8).numpy())\n",
    "    \n",
    "    # Plota a imagem e remove os eixos do gráfico\n",
    "    plt.imshow(imagem)\n",
    "    plt.axis(\"off\")\n",
    "    \n",
    "    # Define um título para o gráfico, se especificado\n",
    "    plt.title(title)\n"
   ]
  },
  {
   "cell_type": "code",
   "execution_count": null,
   "metadata": {},
   "outputs": [],
   "source": [
    "# Aqui nesta linha podemos definir qual o arquivo que desejamos aumentar a qualidade\n",
    "arquivo = \"babuino.png\"\n",
    "\n",
    "# Realiza o processamento necessário para que o python consiga trabalhar com a imagem\n",
    "imagem = preprocess_image(arquivo)"
   ]
  },
  {
   "cell_type": "code",
   "execution_count": null,
   "metadata": {},
   "outputs": [],
   "source": [
    "# A imagem é transformada em uma matriz de valores que representam os valores RGB de cada PIXEL\n",
    "imagem"
   ]
  },
  {
   "cell_type": "code",
   "execution_count": null,
   "metadata": {},
   "outputs": [],
   "source": [
    "# Exibe a imagem original\n",
    "plot_image(imagem, title=\"Imagem Original\")"
   ]
  },
  {
   "cell_type": "code",
   "execution_count": null,
   "metadata": {},
   "outputs": [],
   "source": [
    "# Define o arquivo que possui o modelo de machine learning já treinado para definir os\n",
    "modelo_h5_path = \"modelo_esrgan.h5\"\n",
    "\n",
    "# Realiza a leitura do modelo\n",
    "modelo = tf.keras.models.load_model(modelo_h5_path, custom_objects={'KerasLayer': hub.KerasLayer})\n"
   ]
  },
  {
   "cell_type": "code",
   "execution_count": null,
   "metadata": {},
   "outputs": [],
   "source": [
    "# Aplica o modelo treinado na matriz da imagem fornecida e salva o resultado na variável imagem_fake\n",
    "imagem_fake = modelo(imagem)"
   ]
  },
  {
   "cell_type": "code",
   "execution_count": null,
   "metadata": {},
   "outputs": [],
   "source": [
    "# Exibe a imagem com maior qualidade\n",
    "plot_image(imagem_fake, title=\"Qualidade Aumentada\")"
   ]
  },
  {
   "cell_type": "code",
   "execution_count": null,
   "metadata": {},
   "outputs": [],
   "source": [
    "# Exibe a imagem original apenas para comparação\n",
    "plot_image(imagem, title=\"Imagem Original\")"
   ]
  },
  {
   "cell_type": "code",
   "execution_count": null,
   "metadata": {},
   "outputs": [],
   "source": [
    "# Salva a imagem com qualidade aumentada\n",
    "save_image(imagem_fake, 'babuino Qualidade Aumentada')"
   ]
  },
  {
   "attachments": {},
   "cell_type": "markdown",
   "metadata": {},
   "source": [
    "E se quisermos montar um código para aumentar a qualidade de diversas imagens?\n",
    "\n",
    "Temos a pasta \"imagens\" com algumas imagens de baixa resolução. e iremos salvar as imagens com a qualidade aumentada na pasta \"imagens_geradas\".\n",
    "\n",
    "\n",
    "Bem podemos realizar isto com algum loop..."
   ]
  },
  {
   "cell_type": "code",
   "execution_count": null,
   "metadata": {},
   "outputs": [],
   "source": [
    "# Com o comando os.listdir() conseguimos listar todos os arquivos dentro da pasta 'imagens'\n",
    "os.listdir('imagens')"
   ]
  },
  {
   "cell_type": "code",
   "execution_count": null,
   "metadata": {},
   "outputs": [],
   "source": [
    "# Cria uma lista com o nome das imagens na pasta \"imagens\"\n",
    "lista_imagens = os.listdir('imagens')\n",
    "\n",
    "# Exibe a lista com o nome das imagens\n",
    "lista_imagens"
   ]
  },
  {
   "cell_type": "code",
   "execution_count": null,
   "metadata": {},
   "outputs": [],
   "source": [
    "lista_imagens = [x for x in lista_imagens if '.ipynb' not in x]\n",
    "lista_imagens"
   ]
  },
  {
   "cell_type": "code",
   "execution_count": null,
   "metadata": {},
   "outputs": [],
   "source": [
    "for arquivo in lista_imagens:\n",
    "    # Note que as nossas imagens estão dentro da pasta imagens, \n",
    "    # então precisamos definir isto para o python conseguir ler as imagens no local correto\n",
    "    \n",
    "    # Realiza o pré processamento da imagem\n",
    "    imagem = preprocess_image('imagens/'+arquivo)\n",
    "\n",
    "    # Aplica o modelo treinado na matriz da imagem fornecida e salva o resultado na variável imagem_fake\n",
    "    imagem_fake = modelo(imagem)\n",
    "\n",
    "    # Remove a extenção do nome das imagens\n",
    "    if '.jpeg' in arquivo:\n",
    "        arquivo = arquivo[:-5]\n",
    "\n",
    "    elif '.jpg' or '.png' in arquivo:\n",
    "        arquivo = arquivo[:-4]\n",
    "\n",
    "    # Salva a imagem com qualidade aumentada\n",
    "    save_image(imagem_fake, 'imagens_geradas/'+arquivo)"
   ]
  }
 ],
 "metadata": {
  "kernelspec": {
   "display_name": "tf",
   "language": "python",
   "name": "python3"
  },
  "language_info": {
   "codemirror_mode": {
    "name": "ipython",
    "version": 3
   },
   "file_extension": ".py",
   "mimetype": "text/x-python",
   "name": "python",
   "nbconvert_exporter": "python",
   "pygments_lexer": "ipython3",
   "version": "3.9.16"
  },
  "orig_nbformat": 4
 },
 "nbformat": 4,
 "nbformat_minor": 2
}
